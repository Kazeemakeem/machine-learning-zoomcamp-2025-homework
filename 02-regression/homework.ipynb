{
 "cells": [
  {
   "cell_type": "code",
   "execution_count": 67,
   "id": "f2c554a5-b32a-4caf-844b-7220be0c120e",
   "metadata": {},
   "outputs": [],
   "source": [
    "import pandas as pd\n",
    "import numpy as np\n",
    "import seaborn as sns\n",
    "import matplotlib.pyplot as plt\n",
    "%matplotlib inline"
   ]
  },
  {
   "cell_type": "code",
   "execution_count": 68,
   "id": "fbe393dd-10ae-4840-998b-c44fe04483fa",
   "metadata": {},
   "outputs": [],
   "source": [
    "data = pd.read_csv('https://raw.githubusercontent.com/alexeygrigorev/datasets/master/car_fuel_efficiency.csv')"
   ]
  },
  {
   "cell_type": "code",
   "execution_count": 69,
   "id": "eefce94f-2dd0-4676-acd7-c0650d0ae4e8",
   "metadata": {},
   "outputs": [
    {
     "data": {
      "text/html": [
       "<div>\n",
       "<style scoped>\n",
       "    .dataframe tbody tr th:only-of-type {\n",
       "        vertical-align: middle;\n",
       "    }\n",
       "\n",
       "    .dataframe tbody tr th {\n",
       "        vertical-align: top;\n",
       "    }\n",
       "\n",
       "    .dataframe thead th {\n",
       "        text-align: right;\n",
       "    }\n",
       "</style>\n",
       "<table border=\"1\" class=\"dataframe\">\n",
       "  <thead>\n",
       "    <tr style=\"text-align: right;\">\n",
       "      <th></th>\n",
       "      <th>engine_displacement</th>\n",
       "      <th>num_cylinders</th>\n",
       "      <th>horsepower</th>\n",
       "      <th>vehicle_weight</th>\n",
       "      <th>acceleration</th>\n",
       "      <th>model_year</th>\n",
       "      <th>origin</th>\n",
       "      <th>fuel_type</th>\n",
       "      <th>drivetrain</th>\n",
       "      <th>num_doors</th>\n",
       "      <th>fuel_efficiency_mpg</th>\n",
       "    </tr>\n",
       "  </thead>\n",
       "  <tbody>\n",
       "    <tr>\n",
       "      <th>0</th>\n",
       "      <td>170</td>\n",
       "      <td>3.0</td>\n",
       "      <td>159.0</td>\n",
       "      <td>3413.433759</td>\n",
       "      <td>17.7</td>\n",
       "      <td>2003</td>\n",
       "      <td>Europe</td>\n",
       "      <td>Gasoline</td>\n",
       "      <td>All-wheel drive</td>\n",
       "      <td>0.0</td>\n",
       "      <td>13.231729</td>\n",
       "    </tr>\n",
       "    <tr>\n",
       "      <th>1</th>\n",
       "      <td>130</td>\n",
       "      <td>5.0</td>\n",
       "      <td>97.0</td>\n",
       "      <td>3149.664934</td>\n",
       "      <td>17.8</td>\n",
       "      <td>2007</td>\n",
       "      <td>USA</td>\n",
       "      <td>Gasoline</td>\n",
       "      <td>Front-wheel drive</td>\n",
       "      <td>0.0</td>\n",
       "      <td>13.688217</td>\n",
       "    </tr>\n",
       "    <tr>\n",
       "      <th>2</th>\n",
       "      <td>170</td>\n",
       "      <td>NaN</td>\n",
       "      <td>78.0</td>\n",
       "      <td>3079.038997</td>\n",
       "      <td>15.1</td>\n",
       "      <td>2018</td>\n",
       "      <td>Europe</td>\n",
       "      <td>Gasoline</td>\n",
       "      <td>Front-wheel drive</td>\n",
       "      <td>0.0</td>\n",
       "      <td>14.246341</td>\n",
       "    </tr>\n",
       "    <tr>\n",
       "      <th>3</th>\n",
       "      <td>220</td>\n",
       "      <td>4.0</td>\n",
       "      <td>NaN</td>\n",
       "      <td>2542.392402</td>\n",
       "      <td>20.2</td>\n",
       "      <td>2009</td>\n",
       "      <td>USA</td>\n",
       "      <td>Diesel</td>\n",
       "      <td>All-wheel drive</td>\n",
       "      <td>2.0</td>\n",
       "      <td>16.912736</td>\n",
       "    </tr>\n",
       "    <tr>\n",
       "      <th>4</th>\n",
       "      <td>210</td>\n",
       "      <td>1.0</td>\n",
       "      <td>140.0</td>\n",
       "      <td>3460.870990</td>\n",
       "      <td>14.4</td>\n",
       "      <td>2009</td>\n",
       "      <td>Europe</td>\n",
       "      <td>Gasoline</td>\n",
       "      <td>All-wheel drive</td>\n",
       "      <td>2.0</td>\n",
       "      <td>12.488369</td>\n",
       "    </tr>\n",
       "  </tbody>\n",
       "</table>\n",
       "</div>"
      ],
      "text/plain": [
       "   engine_displacement  num_cylinders  horsepower  vehicle_weight  \\\n",
       "0                  170            3.0       159.0     3413.433759   \n",
       "1                  130            5.0        97.0     3149.664934   \n",
       "2                  170            NaN        78.0     3079.038997   \n",
       "3                  220            4.0         NaN     2542.392402   \n",
       "4                  210            1.0       140.0     3460.870990   \n",
       "\n",
       "   acceleration  model_year  origin fuel_type         drivetrain  num_doors  \\\n",
       "0          17.7        2003  Europe  Gasoline    All-wheel drive        0.0   \n",
       "1          17.8        2007     USA  Gasoline  Front-wheel drive        0.0   \n",
       "2          15.1        2018  Europe  Gasoline  Front-wheel drive        0.0   \n",
       "3          20.2        2009     USA    Diesel    All-wheel drive        2.0   \n",
       "4          14.4        2009  Europe  Gasoline    All-wheel drive        2.0   \n",
       "\n",
       "   fuel_efficiency_mpg  \n",
       "0            13.231729  \n",
       "1            13.688217  \n",
       "2            14.246341  \n",
       "3            16.912736  \n",
       "4            12.488369  "
      ]
     },
     "execution_count": 69,
     "metadata": {},
     "output_type": "execute_result"
    }
   ],
   "source": [
    "data.head()"
   ]
  },
  {
   "cell_type": "code",
   "execution_count": 4,
   "id": "c4125ecc-86d1-41de-8a66-1e7e76854e4d",
   "metadata": {},
   "outputs": [
    {
     "data": {
      "text/plain": [
       "Index(['engine_displacement', 'num_cylinders', 'horsepower', 'vehicle_weight',\n",
       "       'acceleration', 'model_year', 'origin', 'fuel_type', 'drivetrain',\n",
       "       'num_doors', 'fuel_efficiency_mpg'],\n",
       "      dtype='object')"
      ]
     },
     "execution_count": 4,
     "metadata": {},
     "output_type": "execute_result"
    }
   ],
   "source": [
    "data.columns"
   ]
  },
  {
   "cell_type": "markdown",
   "id": "23b52e52-025e-4e46-9351-75703d511a8a",
   "metadata": {},
   "source": [
    "## Data Selection"
   ]
  },
  {
   "cell_type": "code",
   "execution_count": 70,
   "id": "ac7a3934-b222-4947-b44a-d1f3ee82caa8",
   "metadata": {},
   "outputs": [],
   "source": [
    "df = data[['engine_displacement', 'horsepower', 'vehicle_weight', 'model_year', 'fuel_efficiency_mpg']]"
   ]
  },
  {
   "cell_type": "markdown",
   "id": "5fee350a-f3a0-42d5-a226-d3265c0ee6aa",
   "metadata": {},
   "source": [
    "## EDA"
   ]
  },
  {
   "cell_type": "code",
   "execution_count": 6,
   "id": "7a8515fb-dc44-4cf3-9bd0-96983c53582d",
   "metadata": {},
   "outputs": [
    {
     "data": {
      "text/plain": [
       "<Axes: xlabel='fuel_efficiency_mpg', ylabel='Count'>"
      ]
     },
     "execution_count": 6,
     "metadata": {},
     "output_type": "execute_result"
    },
    {
     "data": {
      "image/png": "[encoded data removed]",
      "text/plain": [
       "<Figure size 640x480 with 1 Axes>"
      ]
     },
     "metadata": {},
     "output_type": "display_data"
    }
   ],
   "source": [
    "sns.histplot(df['fuel_efficiency_mpg'], bins=50)"
   ]
  },
  {
   "cell_type": "markdown",
   "id": "7bc7c836-b8ae-4cd5-9c72-54509d3f94b9",
   "metadata": {},
   "source": [
    "## long tailed ?"
   ]
  },
  {
   "cell_type": "code",
   "execution_count": 7,
   "id": "691fc815-6aeb-42d1-aecc-1ddfb7b0aa60",
   "metadata": {},
   "outputs": [
    {
     "data": {
      "text/plain": [
       "<Axes: xlabel='fuel_efficiency_mpg', ylabel='Count'>"
      ]
     },
     "execution_count": 7,
     "metadata": {},
     "output_type": "execute_result"
    },
    {
     "data": {
      "image/png": "[encoded data removed]",
      "text/plain": [
       "<Figure size 640x480 with 1 Axes>"
      ]
     },
     "metadata": {},
     "output_type": "display_data"
    }
   ],
   "source": [
    "sns.histplot(df['fuel_efficiency_mpg'][df['fuel_efficiency_mpg'] > 22.5], bins=50)"
   ]
  },
  {
   "cell_type": "code",
   "execution_count": 8,
   "id": "9fc9bef5-d5bd-46c2-bdfc-8a9eccb52590",
   "metadata": {},
   "outputs": [
    {
     "data": {
      "text/plain": [
       "<Axes: xlabel='fuel_efficiency_mpg', ylabel='Count'>"
      ]
     },
     "execution_count": 8,
     "metadata": {},
     "output_type": "execute_result"
    },
    {
     "data": {
      "image/png": "[encoded data removed]",
      "text/plain": [
       "<Figure size 640x480 with 1 Axes>"
      ]
     },
     "metadata": {},
     "output_type": "display_data"
    }
   ],
   "source": [
    "sns.histplot(df['fuel_efficiency_mpg'][df['fuel_efficiency_mpg'] < 7.5], bins=50)"
   ]
  },
  {
   "cell_type": "markdown",
   "id": "f3acc06d-95a1-4a54-a428-7735bda918f8",
   "metadata": {},
   "source": [
    "## Question 1: Column with missing values "
   ]
  },
  {
   "cell_type": "code",
   "execution_count": 9,
   "id": "8d2f60f9-9be4-4eda-90db-7829e592a7ad",
   "metadata": {},
   "outputs": [
    {
     "data": {
      "text/plain": [
       "[horsepower    708\n",
       " dtype: int64]"
      ]
     },
     "execution_count": 9,
     "metadata": {},
     "output_type": "execute_result"
    }
   ],
   "source": [
    "df_nan = df.isnull().sum()\n",
    "df_nan =[df_nan[df_nan.values > 0]]\n",
    "df_nan"
   ]
  },
  {
   "cell_type": "markdown",
   "id": "3d5ff5eb-713a-4e9c-a6f6-b90794ba5f58",
   "metadata": {},
   "source": [
    "## Question 2: Median horsepower"
   ]
  },
  {
   "cell_type": "code",
   "execution_count": 10,
   "id": "d3cee391-f20e-46cc-aa79-38139a5de527",
   "metadata": {},
   "outputs": [
    {
     "data": {
      "text/plain": [
       "149.0"
      ]
     },
     "execution_count": 10,
     "metadata": {},
     "output_type": "execute_result"
    }
   ],
   "source": [
    "df['horsepower'].median()"
   ]
  },
  {
   "cell_type": "markdown",
   "id": "bc3b95cb-288b-4961-8e28-a1621b898ad9",
   "metadata": {},
   "source": [
    "## Question 3: RMSE"
   ]
  },
  {
   "cell_type": "code",
   "execution_count": 11,
   "id": "bf81b896-4a79-4efd-b318-707fa20ece12",
   "metadata": {},
   "outputs": [],
   "source": [
    "n = len(df)\n",
    "indx = np.arange(n)"
   ]
  },
  {
   "cell_type": "code",
   "execution_count": 12,
   "id": "51b549e9-0f6d-49d4-93f8-485653ce0104",
   "metadata": {},
   "outputs": [],
   "source": [
    "np.random.seed(42)\n",
    "np.random.shuffle(indx)"
   ]
  },
  {
   "cell_type": "code",
   "execution_count": 13,
   "id": "db03eb34-f4f3-4063-8cbf-1263b47b23d2",
   "metadata": {},
   "outputs": [
    {
     "data": {
      "text/plain": [
       "array([ 483, 7506, 8795, ..., 5390,  860, 7270])"
      ]
     },
     "execution_count": 13,
     "metadata": {},
     "output_type": "execute_result"
    }
   ],
   "source": [
    "indx"
   ]
  },
  {
   "cell_type": "code",
   "execution_count": 14,
   "id": "f3b0bf5b-7b70-4f96-a009-c326e3aecba4",
   "metadata": {},
   "outputs": [],
   "source": [
    "n_val = int(n * 0.2)\n",
    "n_test = int(n * 0.2)\n",
    "n_train = n - n_val - n_test"
   ]
  },
  {
   "cell_type": "code",
   "execution_count": 15,
   "id": "2a58bbd0-6fc7-4866-b8a2-60713f79e7b9",
   "metadata": {},
   "outputs": [],
   "source": [
    "df_train = df.iloc[indx[:n_train]]\n",
    "df_val = df.iloc[indx[n_train:n_train+n_val]]\n",
    "df_test = df.iloc[indx[n_train+n_val:]]"
   ]
  },
  {
   "cell_type": "code",
   "execution_count": 16,
   "id": "4a8a7d0d-cdc1-4b1c-865d-ce4ab60b0e6c",
   "metadata": {},
   "outputs": [],
   "source": [
    "df_train = df_train.reset_index(drop=True)\n",
    "df_val = df_val.reset_index(drop=True)\n",
    "df_test = df_test.reset_index(drop=True)"
   ]
  },
  {
   "cell_type": "code",
   "execution_count": 17,
   "id": "edbb450a-f714-4837-9d6d-87221cf40411",
   "metadata": {},
   "outputs": [],
   "source": [
    "y_train = np.log1p(df_train.fuel_efficiency_mpg.values)\n",
    "y_val = np.log1p(df_val.fuel_efficiency_mpg.values)\n",
    "y_test = np.log1p(df_test.fuel_efficiency_mpg.values)"
   ]
  },
  {
   "cell_type": "code",
   "execution_count": 18,
   "id": "9bf92f3e-9258-438d-a932-a9b1fce68194",
   "metadata": {},
   "outputs": [],
   "source": [
    "del df_train['fuel_efficiency_mpg']\n",
    "del df_val['fuel_efficiency_mpg']\n",
    "del df_test['fuel_efficiency_mpg']"
   ]
  },
  {
   "cell_type": "code",
   "execution_count": 19,
   "id": "d819a107-1366-4468-9d1c-1ae811eb6e09",
   "metadata": {},
   "outputs": [
    {
     "data": {
      "text/plain": [
       "np.float64(149.54)"
      ]
     },
     "execution_count": 19,
     "metadata": {},
     "output_type": "execute_result"
    }
   ],
   "source": [
    "mean_hp = df_train['horsepower'].mean().round(2)\n",
    "mean_hp"
   ]
  },
  {
   "cell_type": "code",
   "execution_count": 20,
   "id": "acc9e1e5-c2bf-475d-859e-19dbd1d052d7",
   "metadata": {},
   "outputs": [],
   "source": [
    "def prepare_X(df, fillna_value):\n",
    "    df = df.copy()\n",
    "    df.horsepower = df.horsepower.fillna(fillna_value)\n",
    "    return df\n",
    "    "
   ]
  },
  {
   "cell_type": "code",
   "execution_count": 21,
   "id": "7648b240-3ce6-4023-a136-de19d887f086",
   "metadata": {},
   "outputs": [],
   "source": [
    "def train_linear_regression(X, y):\n",
    "    ones = np.ones(X.shape[0])\n",
    "    X = np.column_stack([ones, X])\n",
    "\n",
    "    XTX = X.T.dot(X)\n",
    "    XTX_inv = np.linalg.inv(XTX)\n",
    "    w_full = XTX_inv.dot(X.T).dot(y)\n",
    "    \n",
    "    return w_full[0], w_full[1:]"
   ]
  },
  {
   "cell_type": "code",
   "execution_count": 31,
   "id": "e8c56a03-3fb8-4d43-a44d-e347f6e787e4",
   "metadata": {},
   "outputs": [],
   "source": [
    "def rmse(y, y_pred):\n",
    "    se = (y - y_pred) ** 2\n",
    "    mse = se.mean()\n",
    "    return np.sqrt(mse)"
   ]
  },
  {
   "cell_type": "code",
   "execution_count": 32,
   "id": "176e4fdc-fa38-49de-a243-5b913dcad13b",
   "metadata": {},
   "outputs": [
    {
     "data": {
      "text/plain": [
       "np.float64(0.04)"
      ]
     },
     "execution_count": 32,
     "metadata": {},
     "output_type": "execute_result"
    }
   ],
   "source": [
    "X_train = prepare_X(df_train, 0)\n",
    "w0, w = train_linear_regression(X_train, y_train)\n",
    "\n",
    "X_val = prepare_X(df_val, 0)\n",
    "y_pred = w0 + X_val.dot(w)\n",
    "\n",
    "rmse(y_val, y_pred).round(2)"
   ]
  },
  {
   "cell_type": "code",
   "execution_count": 24,
   "id": "668fa697-7324-452b-b061-173153fd2ba2",
   "metadata": {},
   "outputs": [
    {
     "data": {
      "text/plain": [
       "<matplotlib.legend.Legend at 0x174d06f50>"
      ]
     },
     "execution_count": 24,
     "metadata": {},
     "output_type": "execute_result"
    },
    {
     "data": {
      "image/png": "[encoded data removed]",
      "text/plain": [
       "<Figure size 640x480 with 1 Axes>"
      ]
     },
     "metadata": {},
     "output_type": "display_data"
    }
   ],
   "source": [
    "sns.histplot(y_pred, label='prediction', color='red', alpha=0.5, bins=50)\n",
    "sns.histplot(y_val, label='target', color='blue',  alpha=0.5, bins=50)\n",
    "plt.legend()"
   ]
  },
  {
   "cell_type": "code",
   "execution_count": 33,
   "id": "34666a28-53ff-48d5-84b2-0ad46f9dda57",
   "metadata": {},
   "outputs": [
    {
     "data": {
      "text/plain": [
       "np.float64(0.04)"
      ]
     },
     "execution_count": 33,
     "metadata": {},
     "output_type": "execute_result"
    }
   ],
   "source": [
    "X_train = prepare_X(df_train, mean_hp)\n",
    "w0, w = train_linear_regression(X_train, y_train)\n",
    "\n",
    "X_val = prepare_X(df_val, mean_hp)\n",
    "y_pred = w0 + X_val.dot(w)\n",
    "\n",
    "rmse(y_val, y_pred).round(2)"
   ]
  },
  {
   "cell_type": "code",
   "execution_count": 26,
   "id": "6840393c-21e1-4bbf-a942-f8c404bb4690",
   "metadata": {},
   "outputs": [
    {
     "data": {
      "text/plain": [
       "<matplotlib.legend.Legend at 0x174be4dd0>"
      ]
     },
     "execution_count": 26,
     "metadata": {},
     "output_type": "execute_result"
    },
    {
     "data": {
      "image/png": "[encoded data removed]",
      "text/plain": [
       "<Figure size 640x480 with 1 Axes>"
      ]
     },
     "metadata": {},
     "output_type": "display_data"
    }
   ],
   "source": [
    "sns.histplot(y_pred, label='prediction', color='red', alpha=0.5, bins=50)\n",
    "sns.histplot(y_val, label='target', color='blue',  alpha=0.5, bins=50)\n",
    "plt.legend()"
   ]
  },
  {
   "cell_type": "markdown",
   "id": "58571520-0aba-4975-9613-722bd6282c39",
   "metadata": {},
   "source": [
    "## Question 4: Regularized model"
   ]
  },
  {
   "cell_type": "code",
   "execution_count": 34,
   "id": "ee75cee3-4857-42c5-95ea-8d1b4d61b7e4",
   "metadata": {},
   "outputs": [],
   "source": [
    "def train_linear_regression_reg(X, y, r=0.001):\n",
    "    ones = np.ones(X.shape[0])\n",
    "    X = np.column_stack([ones, X])\n",
    "\n",
    "    XTX = X.T.dot(X)\n",
    "    XTX = XTX + r * np.eye(XTX.shape[0])\n",
    "\n",
    "    XTX_inv = np.linalg.inv(XTX)\n",
    "    w_full = XTX_inv.dot(X.T).dot(y)\n",
    "    \n",
    "    return w_full[0], w_full[1:]"
   ]
  },
  {
   "cell_type": "code",
   "execution_count": 36,
   "id": "24207b54-100a-4455-9a08-4dc0f10d9587",
   "metadata": {},
   "outputs": [
    {
     "name": "stdout",
     "output_type": "stream",
     "text": [
      "0 3.664666247218957 0.03997925782253571\n",
      "0.01 3.168813447028871 0.03997787201771692\n",
      "0.1 1.4288369989538525 0.04050873984500777\n",
      "1 0.22012861947588236 0.04135385150825659\n",
      "5 0.046248856566558805 0.041506118232734715\n",
      "10 0.023271722731382657 0.04152680123752346\n",
      "100 0.0023413689853304933 0.041545756560811734\n"
     ]
    }
   ],
   "source": [
    "for r in [0, 0.01, 0.1, 1, 5, 10, 100]:\n",
    "    X_train = prepare_X(df_train, 0)\n",
    "    w0, w = train_linear_regression_reg(X_train, y_train, r=r)\n",
    "\n",
    "    X_val = prepare_X(df_val, 0)\n",
    "    y_pred = w0 + X_val.dot(w)\n",
    "    score = rmse(y_val, y_pred)\n",
    "    \n",
    "    print(r, w0, score)"
   ]
  },
  {
   "cell_type": "markdown",
   "id": "0e35886f-9de0-4113-b1ff-b05cb7f8b355",
   "metadata": {},
   "source": [
    "## Question 5: Random seeds test"
   ]
  },
  {
   "cell_type": "code",
   "execution_count": 71,
   "id": "536077f9-d56e-498a-bb7f-35d0c555079b",
   "metadata": {},
   "outputs": [
    {
     "name": "stdout",
     "output_type": "stream",
     "text": [
      "rmse_0:  0.03857718347662741\n",
      "rmse_1:  0.03903755642574107\n",
      "rmse_2:  0.03856015943794063\n",
      "rmse_3:  0.03933955837296974\n",
      "rmse_4:  0.039178631987830934\n",
      "rmse_5:  0.03942100575123462\n",
      "rmse_6:  0.03854134936349605\n",
      "rmse_7:  0.03813778728416594\n",
      "rmse_8:  0.04038795415668918\n",
      "rmse_9:  0.039143311438248965\n"
     ]
    },
    {
     "data": {
      "text/plain": [
       "[np.float64(0.03857718347662741),\n",
       " np.float64(0.03903755642574107),\n",
       " np.float64(0.03856015943794063),\n",
       " np.float64(0.03933955837296974),\n",
       " np.float64(0.039178631987830934),\n",
       " np.float64(0.03942100575123462),\n",
       " np.float64(0.03854134936349605),\n",
       " np.float64(0.03813778728416594),\n",
       " np.float64(0.04038795415668918),\n",
       " np.float64(0.039143311438248965)]"
      ]
     },
     "execution_count": 71,
     "metadata": {},
     "output_type": "execute_result"
    }
   ],
   "source": [
    "seeds = [0, 1, 2, 3, 4, 5, 6, 7, 8, 9]\n",
    "rmse_vals = []\n",
    "for seed in seeds:\n",
    "    np.random.seed(seed)\n",
    "    np.random.shuffle(indx)\n",
    "    \n",
    "    n_val = int(n * 0.2)\n",
    "    n_test = int(n * 0.2)\n",
    "    n_train = n - n_val - n_test\n",
    "\n",
    "    df_train = df.iloc[indx[:n_train]]\n",
    "    df_val = df.iloc[indx[n_train:n_train+n_val]]\n",
    "    df_test = df.iloc[indx[n_train+n_val:]]\n",
    "\n",
    "    df_train = df_train.reset_index(drop=True)\n",
    "    df_val = df_val.reset_index(drop=True)\n",
    "    df_test = df_test.reset_index(drop=True)\n",
    "\n",
    "    y_train = np.log1p(df_train.fuel_efficiency_mpg.values)\n",
    "    y_val = np.log1p(df_val.fuel_efficiency_mpg.values)\n",
    "    y_test = np.log1p(df_test.fuel_efficiency_mpg.values)\n",
    "\n",
    "    del df_train['fuel_efficiency_mpg']\n",
    "    del df_val['fuel_efficiency_mpg']\n",
    "    del df_test['fuel_efficiency_mpg']\n",
    "\n",
    "    X_train = prepare_X(df_train, 0)\n",
    "    w0, w = train_linear_regression(X_train, y_train)\n",
    "    X_val = prepare_X(df_val, 0)\n",
    "    y_pred = w0 + X_val.dot(w)\n",
    "    rmse_val = rmse(y_val, y_pred)\n",
    "    print('rmse_%s: '%seed, rmse_val)\n",
    "    rmse_vals.append(rmse(y_val, y_pred))\n",
    " \n",
    "rmse_vals\n",
    "    \n",
    "    "
   ]
  },
  {
   "cell_type": "code",
   "execution_count": 46,
   "id": "15f06ceb-1fe5-430d-9672-1046a40375f6",
   "metadata": {},
   "outputs": [
    {
     "data": {
      "text/plain": [
       "np.float64(0.001)"
      ]
     },
     "execution_count": 46,
     "metadata": {},
     "output_type": "execute_result"
    }
   ],
   "source": [
    "np.std(np.array(rmse_vals)).round(3)"
   ]
  },
  {
   "cell_type": "markdown",
   "id": "5270239b-219f-4a97-8763-7729ae7753dd",
   "metadata": {},
   "source": [
    "## Question 6: Seed test on regularized model"
   ]
  },
  {
   "cell_type": "code",
   "execution_count": 74,
   "id": "fbb0eabd-620e-4649-9f45-2d44bb83efd8",
   "metadata": {},
   "outputs": [
    {
     "data": {
      "text/plain": [
       "np.float64(0.0390077016953259)"
      ]
     },
     "execution_count": 74,
     "metadata": {},
     "output_type": "execute_result"
    }
   ],
   "source": [
    "np.random.seed(9)\n",
    "np.random.shuffle(indx)\n",
    "\n",
    "n_val = int(n * 0.2)\n",
    "n_test = int(n * 0.2)\n",
    "n_train = n - n_val - n_test\n",
    "\n",
    "df_train = df.iloc[indx[:n_train]]\n",
    "df_val = df.iloc[indx[n_train:n_train+n_val]]\n",
    "df_test = df.iloc[indx[n_train+n_val:]]\n",
    "\n",
    "df_train = df_train.reset_index(drop=True)\n",
    "df_val = df_val.reset_index(drop=True)\n",
    "df_test = df_test.reset_index(drop=True)\n",
    "\n",
    "y_train = np.log1p(df_train.fuel_efficiency_mpg.values)\n",
    "y_val = np.log1p(df_val.fuel_efficiency_mpg.values)\n",
    "y_test = np.log1p(df_test.fuel_efficiency_mpg.values)\n",
    "\n",
    "del df_train['fuel_efficiency_mpg']\n",
    "del df_val['fuel_efficiency_mpg']\n",
    "del df_test['fuel_efficiency_mpg']\n",
    "\n",
    "df_merged = pd.concat([df_train, df_val])\n",
    "y_merged = np.concatenate([y_train, y_val])\n",
    "\n",
    "X_merged = prepare_X(df_merged, 0)\n",
    "w0, w = train_linear_regression_reg(X_merged, y_merged, r=0.001)\n",
    "X_test = prepare_X(df_test, 0)\n",
    "y_pred = w0 + X_test.dot(w)\n",
    "rmse_val = rmse(y_test, y_pred)\n",
    " \n",
    "rmse_val\n",
    "    \n",
    "    "
   ]
  },
  {
   "cell_type": "code",
   "execution_count": null,
   "id": "a4774957-bc87-4202-bf20-14187ab00a2b",
   "metadata": {},
   "outputs": [],
   "source": []
  }
 ],
 "metadata": {
  "kernelspec": {
   "display_name": "Python [conda env:ml-zoomcamp]",
   "language": "python",
   "name": "conda-env-ml-zoomcamp-py"
  },
  "language_info": {
   "codemirror_mode": {
    "name": "ipython",
    "version": 3
   },
   "file_extension": ".py",
   "mimetype": "text/x-python",
   "name": "python",
   "nbconvert_exporter": "python",
   "pygments_lexer": "ipython3",
   "version": "3.11.13"
  }
 },
 "nbformat": 4,
 "nbformat_minor": 5
}
